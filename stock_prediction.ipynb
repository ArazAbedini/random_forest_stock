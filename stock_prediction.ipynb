{
 "cells": [
  {
   "cell_type": "code",
   "execution_count": 180,
   "id": "e983f0a3-f033-4889-b678-3293e5a50698",
   "metadata": {},
   "outputs": [],
   "source": [
    "from AlmaIndicator import ALMAIndicator\n",
    "import matplotlib.pyplot as plt\n",
    "from scipy import signal\n",
    "from numpy import diff\n",
    "import pandas as pd\n",
    "import numpy as np "
   ]
  },
  {
   "cell_type": "code",
   "execution_count": 71,
   "id": "525c678c-b6d2-4c02-b931-bea0b06d1879",
   "metadata": {},
   "outputs": [
    {
     "name": "stdout",
     "output_type": "stream",
     "text": [
      "Defaulting to user installation because normal site-packages is not writeable\n",
      "Requirement already satisfied: scipy in /home/araz/.local/lib/python3.10/site-packages (1.11.4)\n",
      "Requirement already satisfied: numpy<1.28.0,>=1.21.6 in /home/araz/.local/lib/python3.10/site-packages (from scipy) (1.26.2)\n",
      "Note: you may need to restart the kernel to use updated packages.\n"
     ]
    }
   ],
   "source": [
    "pip install scipy"
   ]
  },
  {
   "cell_type": "code",
   "execution_count": 211,
   "id": "13f31276-1ba8-4fa8-a57b-50d35c15f307",
   "metadata": {},
   "outputs": [],
   "source": [
    "INPUT_PATH = '/home/araz/Documents/ai/files/XAUUSD_candlestick_1D.json' "
   ]
  },
  {
   "cell_type": "code",
   "execution_count": 272,
   "id": "4db2aa13-64e1-4fd7-8d5c-fbbaa7b578cd",
   "metadata": {},
   "outputs": [],
   "source": [
    "df = pd.read_json(INPUT_PATH, convert_dates=True)\n",
    "train_length = int(len(df) * 0.6)\n",
    "df_cross_test  = df[train_length - 15:]\n",
    "cross_test_length = len(df_cross_test) \n",
    "df_cross_val = df_cross_test[:cross_test_length]\n",
    "df_test = df_cross_test[cross_test_length:]"
   ]
  },
  {
   "cell_type": "code",
   "execution_count": 257,
   "id": "f9376de9-5e9f-495d-bc4e-6a571d688c2d",
   "metadata": {},
   "outputs": [],
   "source": [
    "def feature_add(df: pd.DataFrame) -> df:\n",
    "    alma_indicator = ALMAIndicator(close=df['Close'])\n",
    "    alma = alma_indicator.alma()\n",
    "    df['alma'] = alma\n",
    "    diff_price = diff(price)\n",
    "    diff_price = np.insert(diff_price, 0, None)\n",
    "    print(diff_price.dtype)\n",
    "    df['Price Change'] = diff_price\n",
    "    period_length = 14\n",
    "    df['Gain'] = np.where(df['Price Change'] > 0, df['Price Change'], 0)\n",
    "    df['Loss'] = np.where(df['Price Change'] < 0, abs(df['Price Change']), 0)\n",
    "    df['Avg Gain'] = df['Gain'].rolling(window=period_length).mean()\n",
    "    df['Avg Loss'] = df['Loss'].rolling(window=period_length).mean()\n",
    "    df['RS'] = df['Avg Gain'] / df['Avg Loss']\n",
    "    df['RSI'] = 100 - (100 / (1 + df['RS']))\n",
    "    df = df.drop(['Avg Gain'], axis=1)\n",
    "    df = df.drop(['Gain'], axis=1)\n",
    "    df = df.drop(['Loss'], axis=1)\n",
    "    df = df.drop(['Avg Loss'], axis=1)\n",
    "    df = df.drop(df[df['RS'] == 'inf'].index)\n",
    "    df['12-day EMA'] = df['Close'].ewm(span=12, adjust=False).mean()\n",
    "    df['26-day EMA'] = df['Close'].ewm(span=26, adjust=False).mean()\n",
    "    df['MACD Line'] = df['12-day EMA'] - df['26-day EMA']\n",
    "    df['Signal Line'] = df['MACD Line'].ewm(span=9, adjust=False).mean()\n",
    "    df['MACD Histogram'] = df['MACD Line'] - df['Signal Line']\n",
    "    df.dropna(axis=1, inplace=True)\n",
    "    return df"
   ]
  },
  {
   "cell_type": "code",
   "execution_count": 273,
   "id": "861b4d99-fde2-4822-a6c1-8d0d8a1fa39e",
   "metadata": {},
   "outputs": [
    {
     "name": "stdout",
     "output_type": "stream",
     "text": [
      "float64\n"
     ]
    }
   ],
   "source": [
    "df = feature_add(df)"
   ]
  },
  {
   "cell_type": "code",
   "execution_count": 259,
   "id": "fb356a51-6bd6-434d-82a3-4eae86d57b1c",
   "metadata": {},
   "outputs": [],
   "source": [
    "def ploting(date_list,price, tag_list):\n",
    "    colors = []\n",
    "    for index in tag_list:\n",
    "        if index == 'B':\n",
    "            colors.append('green')\n",
    "        elif index == 'S':\n",
    "            colors.append('red')\n",
    "        elif index == 'S/B':\n",
    "            colors.append('orange')\n",
    "        else:\n",
    "            colors.append('black')\n",
    "    fig, ax = plt.subplots()\n",
    "    ax.plot(date_list, price)\n",
    "    ax.scatter(date_list, price, c=colors)\n",
    "    ax.set_xticklabels(date_list, rotation=90, ha='right')\n",
    "    ax.set_xlabel('X')\n",
    "    ax.set_ylabel('Y')\n",
    "    ax.set_title('total labeling')\n",
    "    plt.show()"
   ]
  },
  {
   "cell_type": "code",
   "execution_count": 260,
   "id": "ae970339-67a5-47c0-86c5-984a4b5ceda4",
   "metadata": {},
   "outputs": [],
   "source": [
    "def top_max_peaks(smooth_peaks: np.array, y_axis: np.array) -> np.array:\n",
    "    y_axis = list(y_axis)\n",
    "    start_point = 0\n",
    "    max_points = []\n",
    "    for index in smooth_peaks:\n",
    "        current_list = y_axis[start_point:index + 1]\n",
    "        max_point = max(current_list)\n",
    "        max_index = current_list.index(max_point) + start_point\n",
    "        max_points.append(max_index)\n",
    "        start_point = index\n",
    "    np_max = np.array(max_points)\n",
    "    return np_max\n"
   ]
  },
  {
   "cell_type": "code",
   "execution_count": 261,
   "id": "cfe8eaf2-33cb-46ea-a039-f0b19c2c0ca0",
   "metadata": {},
   "outputs": [],
   "source": [
    "def top_min_peaks(smooth_peaks: np.array, y_axis: np.array) -> np.array:\n",
    "    y_axis = list(y_axis)\n",
    "    start_point = 0\n",
    "    min_points = []\n",
    "    for index in smooth_peaks:\n",
    "        current_list = y_axis[start_point:index + 1]\n",
    "        min_point = min(current_list)\n",
    "        min_index = current_list.index(min_point) + start_point\n",
    "        min_points.append(min_index)\n",
    "        start_point = index\n",
    "    np_min = np.array(min_points)\n",
    "    return np_min\n",
    "\n"
   ]
  },
  {
   "cell_type": "code",
   "execution_count": 262,
   "id": "35745658-1880-482a-968a-4c6436edca71",
   "metadata": {},
   "outputs": [],
   "source": [
    "def plot_data_frame(x_axis, y_axis):\n",
    "    list = signal.savgol_filter(y_axis,21, 3)\n",
    "    smooth_peaks, _ = signal.find_peaks(x=list)\n",
    "    main_peaks, _ = signal.find_peaks(x=y_axis)\n",
    "    negated_list = [-x for x in y_axis]\n",
    "    negated_smooth_list = [-x for x in list]\n",
    "    main_valley, _ = signal.find_peaks(x=negated_list)\n",
    "    min_smooth_peaks, _ = signal.find_peaks(x=negated_smooth_list)\n",
    "    max_points = top_max_peaks(smooth_peaks, y_axis)\n",
    "    min_points = top_min_peaks(min_smooth_peaks, y_axis)\n",
    "    tag_list = []\n",
    "    red_list = []\n",
    "    green_list = []\n",
    "    flag = True\n",
    "    signal_list = []\n",
    "    buy_price = None\n",
    "    buy = None\n",
    "    row = 0\n",
    "    just_buy = 0\n",
    "    just_sell = 0\n",
    "    for i in range(len(x_axis)):\n",
    "        if i in min_points:\n",
    "            flag = True\n",
    "            red_list.append(i)\n",
    "            tag_list.append('B')\n",
    "            signal_list.append('B')\n",
    "            buy = x_axis[i]\n",
    "            buy_price = y_axis[i]\n",
    "            just_buy += 1\n",
    "        elif i in max_points:\n",
    "            green_list.append(i)\n",
    "            signal_list.append('S')\n",
    "            tag_list.append('S')\n",
    "            just_sell += 1\n",
    "            if buy != None:\n",
    "                row += 1\n",
    "            flag = False\n",
    "\n",
    "        else:\n",
    "            if flag == True:\n",
    "                red_list.append(i)\n",
    "                try:\n",
    "                    risk_reward = (0.95 * buy_price) / (y_axis[i] - buy_price)\n",
    "                    if risk_reward < 1.5:\n",
    "                        signal_list.append('B')\n",
    "                        tag_list.append('B')\n",
    "                        just_buy += 1\n",
    "                    else:\n",
    "                        signal_list.append('B')\n",
    "                        tag_list.append('B')\n",
    "                        buy_price = y_axis[i]\n",
    "                        row += 1\n",
    "                        buy = x_axis[i]\n",
    "                        just_buy += 1\n",
    "                except:\n",
    "                    signal_list.append('B')\n",
    "                    tag_list.append('B')\n",
    "                    just_buy += 1\n",
    "            else:\n",
    "                green_list.append(i)\n",
    "                signal_list.append('S')\n",
    "                tag_list.append('S')\n",
    "                just_sell += 1\n",
    "    # ploting(x_axis, y_axis, tag_list)\n",
    "    return tag_list, signal_list"
   ]
  },
  {
   "cell_type": "code",
   "execution_count": 274,
   "id": "1505d7e0-8520-4dc8-b5a4-f4445cda34d1",
   "metadata": {},
   "outputs": [
    {
     "name": "stdout",
     "output_type": "stream",
     "text": [
      "        id            Open Time     Open     High      Low    Close  \\\n",
      "0        0  2013-01-01-21-00-00  1681.18  1694.82  1680.61  1686.53   \n",
      "1        1  2013-01-02-21-00-00  1685.55  1689.95  1660.75  1663.67   \n",
      "2        2  2013-01-03-21-00-00  1663.24  1664.05  1625.76  1655.46   \n",
      "3        3  2013-01-06-21-00-00  1656.11  1662.45  1642.76  1646.77   \n",
      "4        4  2013-01-07-21-00-00  1647.36  1662.52  1646.55  1658.98   \n",
      "...    ...                  ...      ...      ...      ...      ...   \n",
      "2723  2723  2023-07-19-21-00-00  1976.32  1987.44  1965.36  1969.46   \n",
      "2724  2724  2023-07-20-21-00-00  1970.14  1973.77  1956.82  1961.78   \n",
      "2725  2725  2023-07-23-21-00-00  1962.09  1967.86  1953.45  1954.78   \n",
      "2726  2726  2023-07-24-21-00-00  1955.09  1965.67  1951.55  1964.87   \n",
      "2727  2727  2023-07-25-21-00-00  1964.93  1974.19  1961.99  1971.81   \n",
      "\n",
      "       12-day EMA   26-day EMA  MACD Line  Signal Line  MACD Histogram tag  \n",
      "0     1686.530000  1686.530000   0.000000     0.000000        0.000000   B  \n",
      "1     1683.013077  1684.836667  -1.823590    -0.364718       -1.458872   B  \n",
      "2     1678.774142  1682.660617  -3.886475    -1.069069       -2.817406   B  \n",
      "3     1673.850428  1680.002053  -6.151625    -2.085581       -4.066045   B  \n",
      "4     1671.562670  1678.444864  -6.882194    -3.044903       -3.837291   B  \n",
      "...           ...          ...        ...          ...             ...  ..  \n",
      "2723  1953.603534  1946.788645   6.814889    -0.313885        7.128774   S  \n",
      "2724  1954.861452  1947.899116   6.962336     1.141359        5.820977   S  \n",
      "2725  1954.848921  1948.408811   6.440110     2.201109        4.239001   S  \n",
      "2726  1956.390626  1949.628158   6.762467     3.113381        3.649086   S  \n",
      "2727  1958.762837  1951.271258   7.491579     3.989021        3.502559   S  \n",
      "\n",
      "[2728 rows x 12 columns]\n",
      "        id            Open Time     Open     High      Low    Close  \\\n",
      "0        0  2013-01-01-21-00-00  1681.18  1694.82  1680.61  1686.53   \n",
      "1        1  2013-01-02-21-00-00  1685.55  1689.95  1660.75  1663.67   \n",
      "2        2  2013-01-03-21-00-00  1663.24  1664.05  1625.76  1655.46   \n",
      "3        3  2013-01-06-21-00-00  1656.11  1662.45  1642.76  1646.77   \n",
      "4        4  2013-01-07-21-00-00  1647.36  1662.52  1646.55  1658.98   \n",
      "...    ...                  ...      ...      ...      ...      ...   \n",
      "2723  2723  2023-07-19-21-00-00  1976.32  1987.44  1965.36  1969.46   \n",
      "2724  2724  2023-07-20-21-00-00  1970.14  1973.77  1956.82  1961.78   \n",
      "2725  2725  2023-07-23-21-00-00  1962.09  1967.86  1953.45  1954.78   \n",
      "2726  2726  2023-07-24-21-00-00  1955.09  1965.67  1951.55  1964.87   \n",
      "2727  2727  2023-07-25-21-00-00  1964.93  1974.19  1961.99  1971.81   \n",
      "\n",
      "       12-day EMA   26-day EMA  MACD Line  Signal Line  MACD Histogram tag  \n",
      "0     1686.530000  1686.530000   0.000000     0.000000        0.000000   B  \n",
      "1     1683.013077  1684.836667  -1.823590    -0.364718       -1.458872   B  \n",
      "2     1678.774142  1682.660617  -3.886475    -1.069069       -2.817406   B  \n",
      "3     1673.850428  1680.002053  -6.151625    -2.085581       -4.066045   B  \n",
      "4     1671.562670  1678.444864  -6.882194    -3.044903       -3.837291   B  \n",
      "...           ...          ...        ...          ...             ...  ..  \n",
      "2723  1953.603534  1946.788645   6.814889    -0.313885        7.128774   S  \n",
      "2724  1954.861452  1947.899116   6.962336     1.141359        5.820977   S  \n",
      "2725  1954.848921  1948.408811   6.440110     2.201109        4.239001   S  \n",
      "2726  1956.390626  1949.628158   6.762467     3.113381        3.649086   S  \n",
      "2727  1958.762837  1951.271258   7.491579     3.989021        3.502559   S  \n",
      "\n",
      "[2728 rows x 12 columns]\n"
     ]
    }
   ],
   "source": [
    "price = df['Close']\n",
    "date_array = np.array(list(map(str, df['Open Time'])))\n",
    "price_array = np.array(price)\n",
    "tag_list, signal_list = plot_data_frame(date_array,price) \n",
    "df.dropna(axis=1, inplace=True)\n",
    "df['tag'] = tag_list\n",
    "df.dropna(axis=1, inplace=True)\n",
    "print(df)\n",
    "y = np.array(df['tag'])\n",
    "x = np.drop(['id', 'Open Time', 'tag'], axis='columns') \n",
    "print(df)"
   ]
  },
  {
   "cell_type": "code",
   "execution_count": null,
   "id": "abe0888e-e9fa-41d6-a0f5-83d1fa8e86d8",
   "metadata": {},
   "outputs": [],
   "source": []
  },
  {
   "cell_type": "code",
   "execution_count": null,
   "id": "49e3ecc5-2dfc-4eaa-aa72-f762caed13dd",
   "metadata": {},
   "outputs": [],
   "source": []
  },
  {
   "cell_type": "code",
   "execution_count": null,
   "id": "028e1dcf-c18e-42e8-b445-0aab06792ce2",
   "metadata": {},
   "outputs": [],
   "source": []
  }
 ],
 "metadata": {
  "kernelspec": {
   "display_name": "Python 3 (ipykernel)",
   "language": "python",
   "name": "python3"
  },
  "language_info": {
   "codemirror_mode": {
    "name": "ipython",
    "version": 3
   },
   "file_extension": ".py",
   "mimetype": "text/x-python",
   "name": "python",
   "nbconvert_exporter": "python",
   "pygments_lexer": "ipython3",
   "version": "3.10.12"
  }
 },
 "nbformat": 4,
 "nbformat_minor": 5
}
